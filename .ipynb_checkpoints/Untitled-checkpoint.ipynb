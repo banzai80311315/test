{
 "cells": [
  {
   "cell_type": "markdown",
   "id": "4fcb3529",
   "metadata": {},
   "source": [
    "# システム開発\n",
    "## Step1:BPRが1以下の企業を一覧で表示"
   ]
  },
  {
   "cell_type": "code",
   "execution_count": 1,
   "id": "3d452bc1",
   "metadata": {},
   "outputs": [],
   "source": [
    "import json\n",
    "import yfinance as yf\n",
    "\n",
    "def get_low_pbr_stocks():\n",
    "    # 日本株のティッカーリスト (例としていくつかの主要銘柄)\n",
    "    tickers = [\"7203.T\", \"6758.T\", \"9984.T\", \"9432.T\", \"8306.T\", \"8411.T\", \"6861.T\", \"6971.T\", \"9983.T\", \"4063.T\"]\n",
    "\n",
    "    low_pbr_stocks = []\n",
    "\n",
    "    for ticker in tickers:\n",
    "        try:\n",
    "            stock = yf.Ticker(ticker)\n",
    "            pbr = stock.info.get(\"priceToBook\", None)  # PBR取得\n",
    "            if pbr is not None and pbr <= 1:\n",
    "                low_pbr_stocks.append({\"ticker\": ticker, \"pbr\": pbr})\n",
    "        except Exception as e:\n",
    "            print(f\"Error fetching data for {ticker}: {e}\")\n",
    "\n",
    "    return low_pbr_stocks\n",
    "\n",
    "def lambda_handler(event, context):\n",
    "    low_pbr_stocks = get_low_pbr_stocks()\n",
    "    return {\n",
    "        \"statusCode\": 200,\n",
    "        \"body\": json.dumps(low_pbr_stocks)\n",
    "    }\n"
   ]
  },
  {
   "cell_type": "code",
   "execution_count": null,
   "id": "d1f23694",
   "metadata": {},
   "outputs": [],
   "source": []
  }
 ],
 "metadata": {
  "kernelspec": {
   "display_name": "Python 3 (ipykernel)",
   "language": "python",
   "name": "python3"
  },
  "language_info": {
   "codemirror_mode": {
    "name": "ipython",
    "version": 3
   },
   "file_extension": ".py",
   "mimetype": "text/x-python",
   "name": "python",
   "nbconvert_exporter": "python",
   "pygments_lexer": "ipython3",
   "version": "3.9.12"
  }
 },
 "nbformat": 4,
 "nbformat_minor": 5
}
