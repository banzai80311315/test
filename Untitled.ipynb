{
 "cells": [
  {
   "cell_type": "markdown",
   "id": "ec214f1e",
   "metadata": {},
   "source": [
    "# システム開発\n",
    "## Step1:BPRが1以下の企業を一覧で表示"
   ]
  },
  {
   "cell_type": "code",
   "execution_count": 8,
   "id": "85bd99f7",
   "metadata": {},
   "outputs": [
    {
     "name": "stdout",
     "output_type": "stream",
     "text": [
      "CPU コア数: 6\n",
      "論理CPU数: 12\n",
      "CPU 使用率: 4.0%\n"
     ]
    }
   ],
   "source": [
    "import psutil\n",
    "print(f\"CPU コア数: {psutil.cpu_count(logical=False)}\")\n",
    "print(f\"論理CPU数: {psutil.cpu_count(logical=True)}\")\n",
    "print(f\"CPU 使用率: {psutil.cpu_percent(interval=1)}%\")"
   ]
  },
  {
   "cell_type": "code",
   "execution_count": 12,
   "id": "6bc9477f",
   "metadata": {},
   "outputs": [
    {
     "name": "stdout",
     "output_type": "stream",
     "text": [
      "全メモリ容量: 7.37 GB\n",
      "使用中メモリ: 5.47 GB\n",
      "空きメモリ: 1.89 GB\n",
      "メモリ使用率: 74.3%\n"
     ]
    }
   ],
   "source": [
    "import psutil\n",
    "\n",
    "mem = psutil.virtual_memory()\n",
    "print(f\"全メモリ容量: {mem.total / (1024**3):.2f} GB\")\n",
    "print(f\"使用中メモリ: {mem.used / (1024**3):.2f} GB\")\n",
    "print(f\"空きメモリ: {mem.available / (1024**3):.2f} GB\")\n",
    "print(f\"メモリ使用率: {mem.percent}%\")\n"
   ]
  },
  {
   "cell_type": "code",
   "execution_count": 13,
   "id": "8e969974",
   "metadata": {},
   "outputs": [
    {
     "name": "stdout",
     "output_type": "stream",
     "text": [
      "ディスク総容量: 237.23 GB\n",
      "使用済み: 114.73 GB\n",
      "空き容量: 122.50 GB\n",
      "ディスク使用率: 48.4%\n"
     ]
    }
   ],
   "source": [
    "disk = psutil.disk_usage('/')\n",
    "print(f\"ディスク総容量: {disk.total / (1024**3):.2f} GB\")\n",
    "print(f\"使用済み: {disk.used / (1024**3):.2f} GB\")\n",
    "print(f\"空き容量: {disk.free / (1024**3):.2f} GB\")\n",
    "print(f\"ディスク使用率: {disk.percent}%\")"
   ]
  },
  {
   "cell_type": "code",
   "execution_count": 14,
   "id": "ab3f2621",
   "metadata": {},
   "outputs": [],
   "source": [
    "import json\n",
    "import yfinance as yf\n",
    "\n",
    "def get_low_pbr_stocks(tickers):\n",
    "    ## tuckersリストからbprが1以下の企業を抽出する関数\n",
    "    low_pbr_stocks = []\n",
    "\n",
    "    for ticker in tickers:\n",
    "        try:\n",
    "            stock = yf.Ticker(ticker)\n",
    "            pbr = stock.info.get(\"priceToBook\", None)  # PBR取得\n",
    "            if pbr is not None and pbr <= 1:\n",
    "                low_pbr_stocks.append({\"ticker\": ticker, \"pbr\": pbr})\n",
    "        except Exception as e:\n",
    "            print(f\"Error fetching data for {ticker}: {e}\")\n",
    "\n",
    "    return low_pbr_stocks"
   ]
  },
  {
   "cell_type": "code",
   "execution_count": 15,
   "id": "5f3c97ce",
   "metadata": {},
   "outputs": [],
   "source": [
    "def lambda_handler(event, context):\n",
    "    low_pbr_stocks = get_low_pbr_stocks()\n",
    "    return {\n",
    "        \"statusCode\": 200,\n",
    "        \"body\": json.dumps(low_pbr_stocks)\n",
    "    }"
   ]
  },
  {
   "cell_type": "markdown",
   "id": "170af79f",
   "metadata": {},
   "source": [
    "テスト"
   ]
  },
  {
   "cell_type": "code",
   "execution_count": 20,
   "id": "bcefe936",
   "metadata": {},
   "outputs": [],
   "source": [
    "# 日本株のティッカーリスト (例としていくつかの主要銘柄)\n",
    "tickers = [\n",
    "    \"7203.T\",  # トヨタ自動車\n",
    "    \"6758.T\",  # ソニーグループ\n",
    "    \"9984.T\",  # ソフトバンクグループ\n",
    "    \"9432.T\",  # 日本電信電話（NTT）\n",
    "    \"8306.T\",  # 三菱UFJフィナンシャル・グループ\n",
    "    \"8411.T\",  # みずほフィナンシャルグループ\n",
    "    \"6861.T\",  # キーエンス\n",
    "    \"6971.T\",  # 京セラ\n",
    "    \"9983.T\",  # ファーストリテイリング（ユニクロ）\n",
    "    \"4063.T\",  # 信越化学工業\n",
    "    \"7545.T\",  # 西松屋チェーン\n",
    "    \"7267.T\",  # 本田技研工業（ホンダ）\n",
    "    \"7201.T\",  # 日産自動車\n",
    "    \"7751.T\",  # キヤノン\n",
    "    \"8031.T\",  # 三井物産\n",
    "    \"8058.T\",  # 三菱商事\n",
    "    \"8766.T\",  # 東京海上ホールディングス\n",
    "    \"4502.T\",  # 武田薬品工業\n",
    "    \"4901.T\",  # 富士フイルムホールディングス\n",
    "    \"5108.T\",  # ブリヂストン\n",
    "]"
   ]
  },
  {
   "cell_type": "code",
   "execution_count": 21,
   "id": "d6a7eebb",
   "metadata": {},
   "outputs": [
    {
     "data": {
      "text/plain": [
       "list"
      ]
     },
     "execution_count": 21,
     "metadata": {},
     "output_type": "execute_result"
    }
   ],
   "source": [
    "low = get_low_pbr_stocks(tickers)\n",
    "type(low)"
   ]
  },
  {
   "cell_type": "code",
   "execution_count": 22,
   "id": "742dda65",
   "metadata": {},
   "outputs": [
    {
     "name": "stdout",
     "output_type": "stream",
     "text": [
      "[{'ticker': '6971.T', 'pbr': 0.7331701}, {'ticker': '7267.T', 'pbr': 0.5216909}, {'ticker': '7201.T', 'pbr': 0.2609086}, {'ticker': '4502.T', 'pbr': 0.8870094}]\n"
     ]
    }
   ],
   "source": [
    "print(low)"
   ]
  },
  {
   "cell_type": "code",
   "execution_count": 27,
   "id": "aa1d768d",
   "metadata": {},
   "outputs": [],
   "source": [
    "# JavaScriptコンテンツ\n",
    "js_content = \"\"\"document.getElementById(\"fetchData\").addEventListener(\"click\", async () => {\n",
    "    const apiUrl = \"https://xxxxx.execute-api.ap-northeast-1.amazonaws.com/stocks\"; // ← ここをAPIのURLに変更\n",
    "    try {\n",
    "        const response = await fetch(apiUrl);\n",
    "        if (!response.ok) {\n",
    "            throw new Error(`HTTPエラー！ステータス: ${response.status}`);\n",
    "        }\n",
    "        const data = await response.json();\n",
    "        displayData(data);\n",
    "    } catch (error) {\n",
    "        console.error(\"データ取得エラー:\", error);\n",
    "    }\n",
    "});\n",
    "\n",
    "function displayData(stocks) {\n",
    "    const tableBody = document.getElementById(\"stockTable\");\n",
    "    tableBody.innerHTML = \"\"; // 一度リセット\n",
    "\n",
    "    stocks.forEach(stock => {\n",
    "        const row = document.createElement(\"tr\");\n",
    "        row.innerHTML = \\`\n",
    "            <td>\\${stock.Ticker}</td>\n",
    "            <td>\\${stock.CompanyNameJP}</td>\n",
    "            <td>\\${stock.PBR.toFixed(2)}</td>\n",
    "        \\`;\n",
    "        tableBody.appendChild(row);\n",
    "    });\n",
    "}\n",
    "\"\"\""
   ]
  },
  {
   "cell_type": "code",
   "execution_count": 28,
   "id": "6e184ce8",
   "metadata": {},
   "outputs": [],
   "source": [
    "# JavaScriptファイルを作成\n",
    "with open(\"script.js\", \"w\", encoding=\"utf-8\") as js_file:\n",
    "    js_file.write(js_content)"
   ]
  },
  {
   "cell_type": "code",
   "execution_count": null,
   "id": "00531c0f",
   "metadata": {},
   "outputs": [],
   "source": []
  }
 ],
 "metadata": {
  "kernelspec": {
   "display_name": "Python 3 (ipykernel)",
   "language": "python",
   "name": "python3"
  },
  "language_info": {
   "codemirror_mode": {
    "name": "ipython",
    "version": 3
   },
   "file_extension": ".py",
   "mimetype": "text/x-python",
   "name": "python",
   "nbconvert_exporter": "python",
   "pygments_lexer": "ipython3",
   "version": "3.9.12"
  }
 },
 "nbformat": 4,
 "nbformat_minor": 5
}
