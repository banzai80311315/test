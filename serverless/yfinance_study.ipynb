{
 "cells": [
  {
   "cell_type": "markdown",
   "id": "5f292915",
   "metadata": {},
   "source": [
    "# Yahoo Finance Study\n",
    "ドキュメント：https://ranaroussi.github.io/yfinance/?utm_source=chatgpt.com"
   ]
  },
  {
   "cell_type": "code",
   "execution_count": 1,
   "id": "4f4018ce",
   "metadata": {},
   "outputs": [],
   "source": [
    "import yfinance as yf"
   ]
  },
  {
   "cell_type": "markdown",
   "id": "71c88c0c",
   "metadata": {},
   "source": [
    "## クイックスタートを試してみる\n",
    "トヨタ自動車を例にクイックスタートを試す。"
   ]
  },
  {
   "cell_type": "markdown",
   "id": "445d630b",
   "metadata": {},
   "source": [
    "### Tickerクラス\n",
    "https://yfinance-python.org/reference/yfinance.ticker_tickers.html"
   ]
  },
  {
   "cell_type": "code",
   "execution_count": 2,
   "id": "66cb2e97",
   "metadata": {},
   "outputs": [],
   "source": [
    "## 入力：企業コードを入力値にデータを取得\n",
    "ticker = yf.Ticker(\"7203.T\")  # トヨタ自動車の例"
   ]
  },
  {
   "cell_type": "code",
   "execution_count": 3,
   "id": "d7ae416c",
   "metadata": {},
   "outputs": [
    {
     "data": {
      "text/plain": [
       "yfinance.ticker.Ticker"
      ]
     },
     "execution_count": 3,
     "metadata": {},
     "output_type": "execute_result"
    }
   ],
   "source": [
    "# 型の確認\n",
    "type(ticker)"
   ]
  },
  {
   "cell_type": "code",
   "execution_count": 4,
   "id": "f643bcd2",
   "metadata": {},
   "outputs": [],
   "source": [
    "# 情報：ドキュメントに記載\n",
    "## help(ticker)"
   ]
  },
  {
   "cell_type": "markdown",
   "id": "f1dec0b2",
   "metadata": {},
   "source": [
    "### 基本情報の取得info\n",
    "基本情報をinfo属性が保持している。"
   ]
  },
  {
   "cell_type": "code",
   "execution_count": 5,
   "id": "9f273a4f",
   "metadata": {},
   "outputs": [],
   "source": [
    "# info属性（属性：attribute）\n",
    "info = ticker.info"
   ]
  },
  {
   "cell_type": "code",
   "execution_count": 6,
   "id": "c6473871",
   "metadata": {},
   "outputs": [
    {
     "data": {
      "text/plain": [
       "dict"
      ]
     },
     "execution_count": 6,
     "metadata": {},
     "output_type": "execute_result"
    }
   ],
   "source": [
    "# 型⇒辞書型\n",
    "type(info)"
   ]
  },
  {
   "cell_type": "markdown",
   "id": "ca72db98",
   "metadata": {},
   "source": [
    "Pythonの辞書型（dict）は、キーと値のペアを持つデータ構造。データの追加、更新、取得が簡単。"
   ]
  },
  {
   "cell_type": "code",
   "execution_count": 7,
   "id": "2e51ae89",
   "metadata": {},
   "outputs": [],
   "source": [
    "# 辞書型のKey,Values組を表示\n",
    "#info.keys() # Key全体\n",
    "import pprint\n",
    "# pprint.pprint(info, width=40)"
   ]
  },
  {
   "cell_type": "markdown",
   "id": "0a8779cc",
   "metadata": {},
   "source": [
    "#### 1. 株価関連データ\n",
    "- `currentPrice`: **現在の株価**\n",
    "- `previousClose`: **前日の終値**\n",
    "- `open`: **当日の始値**\n",
    "- `dayHigh`: **当日の高値**\n",
    "- `dayLow`: **当日の安値**\n",
    "- `regularMarketPreviousClose`: **通常市場の前日終値**\n",
    "- `regularMarketOpen`: **通常市場の始値**\n",
    "- `regularMarketDayHigh`: **通常市場の高値**\n",
    "- `regularMarketDayLow`: **通常市場の安値**\n",
    "- `regularMarketPrice`: **通常市場の現在値**\n",
    "- `fiftyTwoWeekHigh`: **52週高値**\n",
    "- `fiftyTwoWeekLow`: **52週安値**\n",
    "- `fiftyTwoWeekRange`: **52週レンジ（高値 - 安値）**\n",
    "- `fiftyDayAverage`: **50日移動平均**\n",
    "- `twoHundredDayAverage`: **200日移動平均**\n",
    "\n",
    "#### 2. 出来高・流動性関連\n",
    "- `averageVolume`: **平均出来高**\n",
    "- `averageVolume10days`: **10日平均出来高**\n",
    "- `averageDailyVolume3Month`: **3か月平均出来高**\n",
    "- `regularMarketVolume`: **通常市場の出来高**\n",
    "- `floatShares`: **発行済株式数（浮動株）**\n",
    "- `sharesOutstanding`: **発行済株式数**\n",
    "\n",
    "#### 3. 株価指標\n",
    "- `marketCap`: **時価総額**\n",
    "- `trailingPE`: **PER（過去12か月）**\n",
    "- `forwardPE`: **PER（予想）**\n",
    "- `priceToBook`: \n",
    "<span style=\"color: red; \">**PBR（株価純資産倍率）**</span>\n",
    "- `enterpriseValue`: **企業価値（EV）**\n",
    "- `enterpriseToEbitda`: **EV/EBITDA**\n",
    "- `enterpriseToRevenue`: **EV/売上高比率**\n",
    "\n",
    "#### 4. 財務関連データ\n",
    "- `bookValue`: **簿価（1株あたり純資産）**\n",
    "- `totalRevenue`: **総売上高**\n",
    "- `grossProfits`: **粗利益**\n",
    "- `ebitda`: **EBITDA（税引前利益＋利払い＋減価償却）**\n",
    "- `netIncomeToCommon`: **純利益**\n",
    "- `operatingCashflow`: **営業キャッシュフロー**\n",
    "- `freeCashflow`: **フリーキャッシュフロー**\n",
    "- `totalCash`: **総現金**\n",
    "- `totalDebt`: **総負債**\n",
    "- `debtToEquity`: **D/Eレシオ（負債資本倍率）**\n",
    "- `currentRatio`: **流動比率**\n",
    "- `quickRatio`: **当座比率**\n",
    "- `payoutRatio`: **配当性向**\n",
    "\n",
    "#### 5. 配当関連データ\n",
    "- `dividendRate`: **年間配当金**\n",
    "- `dividendYield`: **配当利回り**\n",
    "- `fiveYearAvgDividendYield`: **5年平均配当利回り**\n",
    "- `trailingAnnualDividendRate`: **過去1年の年間配当金**\n",
    "- `trailingAnnualDividendYield`: **過去1年の配当利回り**\n",
    "- `exDividendDate`: **配当落ち日**\n",
    "- `lastDividendDate`: **直近の配当日**\n",
    "- `lastDividendValue`: **直近の配当額**\n",
    "\n",
    "#### 6. 企業情報\n",
    "- `longName`: **会社名**\n",
    "- `shortName`: **略称**\n",
    "- `symbol`: **ティッカーシンボル**\n",
    "- `industry`: **業種**\n",
    "- `sector`: **セクター**\n",
    "- `country`: **国**\n",
    "- `address1`: **住所**\n",
    "- `city`: **都市**\n",
    "- `phone`: **電話番号**\n",
    "- `website`: **公式サイト**\n",
    "- `irWebsite`: **IRサイト**\n",
    "- `fullTimeEmployees`: **従業員数**\n",
    "- `longBusinessSummary`: **企業概要**\n",
    "\n",
    "#### 7. 経営陣・ガバナンス\n",
    "- `companyOfficers`: **役員情報（リスト）**\n",
    "- `boardRisk`: **取締役リスク評価**\n",
    "- `compensationRisk`: **報酬リスク評価**\n",
    "- `governanceEpochDate`: **ガバナンス情報の更新日**\n",
    "- `executiveTeam`: **経営陣情報**\n",
    "\n",
    "#### 8. アナリスト評価・目標株価\n",
    "- `recommendationKey`: **投資判断（Buy/Sellなど）**\n",
    "- `recommendationMean`: **投資判断の平均値**\n",
    "- `averageAnalystRating`: **アナリスト評価の平均**\n",
    "- `targetHighPrice`: **目標株価（高値）**\n",
    "- `targetLowPrice`: **目標株価（安値）**\n",
    "- `targetMeanPrice`: **目標株価（平均）**\n",
    "- `targetMedianPrice`: **目標株価（中央値）**\n",
    "- `numberOfAnalystOpinions`: **アナリストの意見数**\n",
    "\n",
    "#### 9. その他の情報\n",
    "- `exchange`: **取引所**\n",
    "- `currency`: **通貨**\n",
    "- `financialCurrency`: **財務レポートの通貨**\n",
    "- `market`: **市場区分**\n",
    "- `marketState`: **市場状態**\n",
    "- `exchangeTimezoneName`: **取引所のタイムゾーン**\n",
    "- `firstTradeDateMilliseconds`: **最初の取引日（ミリ秒）**\n",
    "- `sourceInterval`: **データ更新間隔（秒）**\n",
    "- `tradeable`: **取引可能かどうか**\n",
    "- `cryptoTradeable`: **暗号通貨取引可能か**"
   ]
  },
  {
   "cell_type": "markdown",
   "id": "1452e4c0",
   "metadata": {},
   "source": [
    "PBRの取得"
   ]
  },
  {
   "cell_type": "code",
   "execution_count": 8,
   "id": "9b781329",
   "metadata": {},
   "outputs": [
    {
     "name": "stdout",
     "output_type": "stream",
     "text": [
      "1.0067105\n"
     ]
    }
   ],
   "source": [
    "pbr = info.get(\"priceToBook\", None) \n",
    "print(pbr)"
   ]
  },
  {
   "cell_type": "code",
   "execution_count": 9,
   "id": "794593e4",
   "metadata": {},
   "outputs": [
    {
     "name": "stdout",
     "output_type": "stream",
     "text": [
      "0.5239985\n"
     ]
    }
   ],
   "source": [
    "# ホンダ\n",
    "honda = yf.Ticker(\"7267.T\")\n",
    "print(honda.info.get(\"priceToBook\", None) )"
   ]
  },
  {
   "cell_type": "markdown",
   "id": "fdf660b5",
   "metadata": {},
   "source": [
    "## 決算短信\n",
    "**決算短信**とは企業が四半期ごとや年度末に発表する業績の速報レポートのこと。\n",
    "\n",
    "投資家や市場関係者に対して、企業の業績や財務状況を迅速に伝えるために作成される。\n",
    "\n",
    "主に1ページ目に情報が詰まっていて、ファンダメンタル分析をする上で基礎となるデータ（サクッと企業を知りたい）が記載されている。\n",
    "\n",
    "トヨタ決算短信：\n",
    "https://global.toyota/pages/global_toyota/ir/financial-results/2024_4q_summary_jp.pdf\n",
    "\n",
    "| 項目                | 内容                                                 |\n",
    "|---------------------|----------------------------------------------------|\n",
    "| **営業収益**         | 企業が商品やサービスを販売して得た収益               |\n",
    "| **純利益**         | 最終的に企業に残る利益                               |\n",
    "| **EPS**           | 1株あたりの純利益（投資家が注目）                     |\n",
    "| **BPS**           | 1株あたりの純資産（企業の財務健全性）                 |\n",
    "| **PER**           | 株価が利益の何倍か（株価水準の目安）                   |\n",
    "| **PBR**           | 株価が純資産の何倍か（割安度の指標）                   |\n",
    "| **配当金・配当利回り** | 株主への利益還元（投資家の関心が高い）             |"
   ]
  },
  {
   "cell_type": "markdown",
   "id": "366176f1",
   "metadata": {},
   "source": [
    "### 貸借対照表P7\n",
    "貸借対照表は、企業のある時点における財務状態を示す。\n",
    "\n",
    "借方に資産、貸方に負債＋純資産が記載される。\n",
    "\n",
    "| **資産（Assets）**      | **負債（Liabilities） + 純資産（Equity）** |\n",
    "|-------------------------|--------------------------------|\n",
    "| **流動資産**（短期的に現金化できる資産） | **流動負債**（1年以内に支払う負債） |\n",
    "| - 現金及び預金           | - 買掛金（未払いの仕入代金） |\n",
    "| - 売掛金（取引先の未収金） | - 短期借入金 |\n",
    "| - 受取手形               | - 未払費用 |\n",
    "| - 棚卸資産（在庫）       | - 未払法人税等 |\n",
    "| **固定資産**（長期保有する資産） | **固定負債**（1年以上の返済期限がある負債） |\n",
    "| - 建物・設備             | - 社債 |\n",
    "| - 土地                   | - 長期借入金 |\n",
    "| - 投資有価証券           | - 退職給付引当金 |\n",
    "| - のれん（企業買収の際の価値） |  |\n",
    "| **その他資産**（無形資産など） | **純資産（Equity）** |\n",
    "| - 繰延税金資産           | - 資本金 |\n",
    "| - その他の無形資産       | - 利益剰余金 |\n",
    "|                         | - 自己株式 |\n",
    "| **合計資産**（左側合計）  | **合計負債 + 純資産**（右側合計） |"
   ]
  },
  {
   "cell_type": "code",
   "execution_count": 10,
   "id": "5a9f1423",
   "metadata": {},
   "outputs": [],
   "source": [
    "bs = ticker.balance_sheet # 貸借対照表"
   ]
  },
  {
   "cell_type": "code",
   "execution_count": 11,
   "id": "6d677a3f",
   "metadata": {},
   "outputs": [
    {
     "data": {
      "text/plain": [
       "pandas.core.frame.DataFrame"
      ]
     },
     "execution_count": 11,
     "metadata": {},
     "output_type": "execute_result"
    }
   ],
   "source": [
    "type(bs)"
   ]
  },
  {
   "cell_type": "code",
   "execution_count": 12,
   "id": "28386918",
   "metadata": {},
   "outputs": [
    {
     "name": "stdout",
     "output_type": "stream",
     "text": [
      "純資産: 35239338000000.0\n"
     ]
    }
   ],
   "source": [
    "equity = bs.loc['Total Equity Gross Minority Interest'].iloc[0]  # \n",
    "print(f\"純資産: {equity}\")"
   ]
  },
  {
   "cell_type": "markdown",
   "id": "2c33466e",
   "metadata": {},
   "source": [
    "### 損益計算書P9\n",
    "損益計算書は、**一定期間の収益と費用** を示し、最終的な利益を計算する表。\n",
    "\n",
    "借方に費用、貸方に収益を記載\n",
    "\n",
    "| **費用** | **収益** |\n",
    "|--------------------------------------|--------------------|\n",
    "| **売上原価**（商品の仕入れ・製造コスト） | **売上高**（本業の収益） |\n",
    "| **売上総利益**（売上高 － 売上原価） |  |\n",
    "| **販売費・一般管理費**（広告費、人件費など） |  |\n",
    "| **営業利益**（売上総利益 － 販売費及び一般管理費） |  |\n",
    "| **営業外費用**（支払利息など） | **営業外収益**（受取利息など） |\n",
    "| **経常利益**（営業利益 ＋ 営業外収益 － 営業外費用） |  |\n",
    "| **特別損失**（災害損失など） | **特別利益**（固定資産売却益など） |\n",
    "| **税引前当期純利益**（経常利益 ＋ 特別利益 － 特別損失） |  |\n",
    "| **法人税等**（法人税・住民税など） |  |\n",
    "| **当期純利益**（最終的な儲け） |  |\n",
    "\n",
    "---\n"
   ]
  },
  {
   "cell_type": "code",
   "execution_count": 13,
   "id": "c5c3271d",
   "metadata": {},
   "outputs": [],
   "source": [
    "fin= ticker.financials # 損益計算書"
   ]
  },
  {
   "cell_type": "code",
   "execution_count": 14,
   "id": "c9b2713a",
   "metadata": {},
   "outputs": [
    {
     "data": {
      "text/plain": [
       "pandas.core.frame.DataFrame"
      ]
     },
     "execution_count": 14,
     "metadata": {},
     "output_type": "execute_result"
    }
   ],
   "source": [
    "type(fin)"
   ]
  },
  {
   "cell_type": "code",
   "execution_count": 15,
   "id": "be288d14",
   "metadata": {},
   "outputs": [
    {
     "name": "stdout",
     "output_type": "stream",
     "text": [
      "営業収益: 45095325000000.0\n"
     ]
    }
   ],
   "source": [
    "total = fin.loc[\"Total Revenue\"].iloc[0]  # 営業収益\n",
    "print(f\"営業収益: {total}\")"
   ]
  },
  {
   "cell_type": "code",
   "execution_count": 16,
   "id": "9f8a6f4f",
   "metadata": {},
   "outputs": [
    {
     "name": "stdout",
     "output_type": "stream",
     "text": [
      "当期純利益: 4944933000000.0\n"
     ]
    }
   ],
   "source": [
    "income = fin.loc[\"Net Income\"].iloc[0]  # 当期純利益\n",
    "print(f\"当期純利益: {income}\")"
   ]
  },
  {
   "cell_type": "markdown",
   "id": "e58f9e1e",
   "metadata": {},
   "source": [
    "1ページ目のデータ収集（株価に起因するものは現在の株価）"
   ]
  },
  {
   "cell_type": "code",
   "execution_count": 17,
   "id": "be7b35a0",
   "metadata": {},
   "outputs": [],
   "source": [
    "# 別で作成した関数を用意\n",
    "import format_stock_info as fs"
   ]
  },
  {
   "cell_type": "code",
   "execution_count": 18,
   "id": "9e48398c",
   "metadata": {},
   "outputs": [
    {
     "data": {
      "text/plain": [
       "pandas.core.frame.DataFrame"
      ]
     },
     "execution_count": 18,
     "metadata": {},
     "output_type": "execute_result"
    }
   ],
   "source": [
    "s_info = fs.get_financial_data(\"7203.T\")\n",
    "type(s_info)"
   ]
  },
  {
   "cell_type": "code",
   "execution_count": 19,
   "id": "86191472",
   "metadata": {},
   "outputs": [
    {
     "data": {
      "text/html": [
       "<div>\n",
       "<style scoped>\n",
       "    .dataframe tbody tr th:only-of-type {\n",
       "        vertical-align: middle;\n",
       "    }\n",
       "\n",
       "    .dataframe tbody tr th {\n",
       "        vertical-align: top;\n",
       "    }\n",
       "\n",
       "    .dataframe thead th {\n",
       "        text-align: right;\n",
       "    }\n",
       "</style>\n",
       "<table border=\"1\" class=\"dataframe\">\n",
       "  <thead>\n",
       "    <tr style=\"text-align: right;\">\n",
       "      <th></th>\n",
       "      <th>7203.T</th>\n",
       "    </tr>\n",
       "  </thead>\n",
       "  <tbody>\n",
       "    <tr>\n",
       "      <th>営業利益</th>\n",
       "      <td>4.509532e+13</td>\n",
       "    </tr>\n",
       "    <tr>\n",
       "      <th>純利益</th>\n",
       "      <td>4.944933e+12</td>\n",
       "    </tr>\n",
       "    <tr>\n",
       "      <th>EPS</th>\n",
       "      <td>3.820400e+02</td>\n",
       "    </tr>\n",
       "    <tr>\n",
       "      <th>BPS</th>\n",
       "      <td>2.697356e+03</td>\n",
       "    </tr>\n",
       "    <tr>\n",
       "      <th>PER</th>\n",
       "      <td>7.225683e+00</td>\n",
       "    </tr>\n",
       "    <tr>\n",
       "      <th>PBR</th>\n",
       "      <td>1.006711e+00</td>\n",
       "    </tr>\n",
       "    <tr>\n",
       "      <th>配当金</th>\n",
       "      <td>1.000000e+02</td>\n",
       "    </tr>\n",
       "    <tr>\n",
       "      <th>配当利回り</th>\n",
       "      <td>3.640000e+00</td>\n",
       "    </tr>\n",
       "  </tbody>\n",
       "</table>\n",
       "</div>"
      ],
      "text/plain": [
       "             7203.T\n",
       "営業利益   4.509532e+13\n",
       "純利益    4.944933e+12\n",
       "EPS    3.820400e+02\n",
       "BPS    2.697356e+03\n",
       "PER    7.225683e+00\n",
       "PBR    1.006711e+00\n",
       "配当金    1.000000e+02\n",
       "配当利回り  3.640000e+00"
      ]
     },
     "execution_count": 19,
     "metadata": {},
     "output_type": "execute_result"
    }
   ],
   "source": [
    "s_info"
   ]
  },
  {
   "cell_type": "markdown",
   "id": "a8d281a3",
   "metadata": {},
   "source": [
    "### 企業価値分析\n",
    "#### 割引配当モデルの基本\n",
    "\n",
    "取得した情報を用いて、例えば理論企業価値を計算することなども自前で用意できる\n",
    "\n",
    "\n",
    "| **項目**   | **内容**                                              |\n",
    "|------------|-------------------------------------------------------|\n",
    "| **計算式** | $$V = \\sum^{∞}_{i=1} \\frac{\\text{D}_i}{(1 + k)^i}$$            |\n",
    "| **説明**   | 将来の配当期待値を現在価値に割り引くことで株価を算出。|\n",
    "| **適用例** | 配当を安定的に支払う成熟企業。                         |\n",
    "\n",
    "---\n",
    "\n",
    "$D_i$は将来の$i$期先の配当期待値、$k$は割引率。\n",
    "\n",
    "$k$について、投資家サイドからすれば株式に投資するにあたって要求する投資収益率。\n",
    "\n",
    "企業サイドからすれば株式で資金調達を行ったことに対して支払わなければならいないコストになる。そのため、割引率$k$を株主資本コストと呼ぶ。\n",
    "\n",
    "#### CAPM割引率の決定\n",
    "\n",
    "割引率は、投資家がその株式に期待するリターンで**資本資産価格モデル（CAPM）**を用いて計算するというのが過去問ででる。\n",
    "\n",
    "$$\n",
    "k = \\text{E}[R_p] = \\beta \\left( \\text{E}[R_m] - R_f \\right) +  R_f\n",
    "$$\n",
    "\n",
    "- $ R_f $: 無リスク金利（例：国債利回り）\n",
    "- $ \\beta $: 株式のベータ値（市場全体に対する感応度）\n",
    "- $ \\text{E}[R_m] $: 市場ポートフォリオの期待リターン\n",
    "- $ \\text{E}[R_m] - R_f$: 市場うポートフォリオのリスクプレミアム\n",
    "\n",
    "※ベータ\n",
    "$\\beta =\\frac{\\text{Cov}[R_m,R_p]}{\\text{Var}[R_m]}$"
   ]
  },
  {
   "cell_type": "code",
   "execution_count": 20,
   "id": "8b014f42",
   "metadata": {},
   "outputs": [],
   "source": [
    "stock = yf.Ticker(\"7267.T\")  \n",
    "info = stock.info"
   ]
  },
  {
   "cell_type": "code",
   "execution_count": 21,
   "id": "2826d5da",
   "metadata": {},
   "outputs": [
    {
     "data": {
      "text/plain": [
       "0.444"
      ]
     },
     "execution_count": 21,
     "metadata": {},
     "output_type": "execute_result"
    }
   ],
   "source": [
    "# ベータはinfoの中に記載（回帰分析などで求める）\n",
    "info[\"beta\"]"
   ]
  },
  {
   "cell_type": "code",
   "execution_count": 22,
   "id": "70f98408",
   "metadata": {},
   "outputs": [
    {
     "data": {
      "text/plain": [
       "yfinance.ticker.Ticker"
      ]
     },
     "execution_count": 22,
     "metadata": {},
     "output_type": "execute_result"
    }
   ],
   "source": [
    "# 信託系の情報も存在する\n",
    "market_data = yf.Ticker(\"N225\")\n",
    "type(market_data)"
   ]
  },
  {
   "cell_type": "code",
   "execution_count": 23,
   "id": "52727a1d",
   "metadata": {},
   "outputs": [],
   "source": [
    "def get_market_return(index=\"^N225\", period=\"10y\"):\n",
    "    \"\"\"\n",
    "    指定した株価指数の過去リターンを計算し、市場リターン (r_m) を推定する\n",
    "    - index: 指数のティッカー (\"^N225\" = 日経平均)\n",
    "    - period: 過去データの取得期間 (\"10y\" = 10年間)\n",
    "    \"\"\"\n",
    "    market_data = yf.Ticker(index)\n",
    "    hist = market_data.history(period=period)\n",
    "    \n",
    "    # 年率リターンを計算\n",
    "    start_price = hist[\"Close\"].iloc[0]\n",
    "    end_price = hist[\"Close\"].iloc[-1]\n",
    "    years = len(hist) / 252  # 1年 = 約252取引日\n",
    "    \n",
    "    market_return = (end_price / start_price) ** (1 / years) - 1\n",
    "    return market_return"
   ]
  },
  {
   "cell_type": "code",
   "execution_count": 24,
   "id": "6e045c84",
   "metadata": {},
   "outputs": [
    {
     "name": "stdout",
     "output_type": "stream",
     "text": [
      "0.06980337921139435\n"
     ]
    }
   ],
   "source": [
    "market_return = get_market_return()\n",
    "print(market_return)"
   ]
  },
  {
   "cell_type": "code",
   "execution_count": 25,
   "id": "f457e8c1",
   "metadata": {},
   "outputs": [],
   "source": [
    "def calculate_required_return(beta, risk_free_rate, market_return):\n",
    "    \"\"\"\n",
    "    CAPMを使用して要求収益率 (r) を計算\n",
    "    - beta: 株のベータ値\n",
    "    - risk_free_rate: リスクフリーレート \n",
    "    - market_return: 市場リターン\n",
    "    \"\"\"\n",
    "    if beta is None:\n",
    "        return None  # ベータが取得できない場合は計算不可\n",
    "    return risk_free_rate + beta * (market_return - risk_free_rate)"
   ]
  },
  {
   "cell_type": "code",
   "execution_count": 26,
   "id": "777a8e42",
   "metadata": {},
   "outputs": [
    {
     "name": "stdout",
     "output_type": "stream",
     "text": [
      "0.03655270036985909\n"
     ]
    }
   ],
   "source": [
    "k = calculate_required_return(info[\"beta\"] , 0.010, market_return )\n",
    "print(k)"
   ]
  },
  {
   "cell_type": "markdown",
   "id": "00f87207",
   "metadata": {},
   "source": [
    "#### 定率成長モデル\n",
    "$D_i = D_{i-1}(1+g)$という仮定を置く場合を定率成長モデルという。\n",
    "\n",
    "$D_i = D_1(1+g)^{i-1}$となることを利用して\n",
    "\n",
    "\\begin{aligned}\n",
    "V &= \\sum^{∞}_{i=1} \\frac{\\text{D}_i}{(1 + k)^i}  \\\\\n",
    "  &= \\sum^{∞}_{i=1} \\frac{D_1(1+g)^{i-1}}{(1 + k)^i}  \\\\\n",
    "  &= \\dfrac{D_1}{1 + k} \\left\\{  \\sum^{∞}_{i=1} \\left(\\frac{1+g}{1 + k} \\right)^{i-1}\\right\\}\n",
    "\\end{aligned}\n",
    "\n",
    "カッコ内は初項が1、公比が$\\dfrac{1+g}{1+k}$の無限公比数列になるため\n",
    "$$\n",
    "V = \\dfrac{D_1}{1+k}\\dfrac{1}{ 1 - \\frac{1+g}{1+k}} = \\frac{D}{k-g}\n",
    "$$"
   ]
  },
  {
   "cell_type": "markdown",
   "id": "cd4833d1",
   "metadata": {},
   "source": [
    "#### サスティナブル成長率\n",
    "サスティナブル成長率とは企業が外部から資金調達することなしに達成可能な成長率のこと。\n",
    "\n",
    "$$\n",
    "g = ROE \\ (1 - d)\n",
    "$$"
   ]
  },
  {
   "cell_type": "code",
   "execution_count": 27,
   "id": "49028e9f",
   "metadata": {},
   "outputs": [
    {
     "name": "stdout",
     "output_type": "stream",
     "text": [
      "0.3337\n"
     ]
    }
   ],
   "source": [
    "d = info.get(\"payoutRatio\", None)  # 配当性向\n",
    "print(d)"
   ]
  },
  {
   "cell_type": "code",
   "execution_count": 28,
   "id": "7e42841c",
   "metadata": {},
   "outputs": [
    {
     "name": "stdout",
     "output_type": "stream",
     "text": [
      "0.08701\n"
     ]
    }
   ],
   "source": [
    "roe =  info.get(\"returnOnEquity\", None)\n",
    "print(roe)"
   ]
  },
  {
   "cell_type": "code",
   "execution_count": 29,
   "id": "18986e26",
   "metadata": {},
   "outputs": [
    {
     "name": "stdout",
     "output_type": "stream",
     "text": [
      "0.057974763000000006\n"
     ]
    }
   ],
   "source": [
    "g = roe * (1 - d)\n",
    "print(g)"
   ]
  },
  {
   "cell_type": "code",
   "execution_count": 30,
   "id": "5182093a",
   "metadata": {},
   "outputs": [
    {
     "name": "stdout",
     "output_type": "stream",
     "text": [
      "68.0\n"
     ]
    }
   ],
   "source": [
    "Rate = info.get(\"dividendRate\")\n",
    "print(Rate)"
   ]
  },
  {
   "cell_type": "code",
   "execution_count": 31,
   "id": "070e0662",
   "metadata": {},
   "outputs": [],
   "source": [
    "def calculate_ddm_price(ticker, risk_free_rate, market_return):\n",
    "    \"\"\"\n",
    "    割引配当モデル（定率成長モデル）で理論株価を計算\n",
    "    \"\"\"\n",
    "    stock = yf.Ticker(ticker)\n",
    "    info = stock.info\n",
    "    \n",
    "    beta = info[\"beta\"]\n",
    "    roe = info.get(\"returnOnEquity\", None) \n",
    "    \n",
    "    Rate = info.get(\"dividendRate\") # 配当金\n",
    "    d = info.get(\"payoutRatio\", None)  # 配当性向\n",
    "    k = calculate_required_return(beta, risk_free_rate, market_return) # 資本コスト\n",
    "    g = roe * (1 - d) # サスティナブル成長率\n",
    "\n",
    "    # DDM で理論株価を計算\n",
    "    if k <= g:\n",
    "        return None  # k ≤ g の場合、理論株価が計算不可\n",
    "\n",
    "    return Rate / (k -g)"
   ]
  },
  {
   "cell_type": "code",
   "execution_count": 32,
   "id": "5ec740b3",
   "metadata": {},
   "outputs": [
    {
     "name": "stdout",
     "output_type": "stream",
     "text": [
      "None\n"
     ]
    }
   ],
   "source": [
    "v = calculate_ddm_price(\"7203.T\", 0.01, k)\n",
    "print(v)"
   ]
  },
  {
   "cell_type": "markdown",
   "id": "a0f8e6b3",
   "metadata": {},
   "source": [
    "**ここでyfinanceの特徴**\n",
    "\n",
    "$\\beta$が低すぎる！！！！"
   ]
  },
  {
   "cell_type": "markdown",
   "id": "e75c1aa5",
   "metadata": {},
   "source": [
    "## 時系列データhistory"
   ]
  },
  {
   "cell_type": "code",
   "execution_count": 33,
   "id": "81247e70",
   "metadata": {},
   "outputs": [
    {
     "data": {
      "text/plain": [
       "pandas.core.frame.DataFrame"
      ]
     },
     "execution_count": 33,
     "metadata": {},
     "output_type": "execute_result"
    }
   ],
   "source": [
    "# 株価履歴を取得\n",
    "df = ticker.history(period=\"6mo\")\n",
    "type(df) # pandas`s DataFrame"
   ]
  },
  {
   "cell_type": "code",
   "execution_count": 34,
   "id": "94b4437f",
   "metadata": {},
   "outputs": [
    {
     "data": {
      "text/html": [
       "<div>\n",
       "<style scoped>\n",
       "    .dataframe tbody tr th:only-of-type {\n",
       "        vertical-align: middle;\n",
       "    }\n",
       "\n",
       "    .dataframe tbody tr th {\n",
       "        vertical-align: top;\n",
       "    }\n",
       "\n",
       "    .dataframe thead th {\n",
       "        text-align: right;\n",
       "    }\n",
       "</style>\n",
       "<table border=\"1\" class=\"dataframe\">\n",
       "  <thead>\n",
       "    <tr style=\"text-align: right;\">\n",
       "      <th></th>\n",
       "      <th>Open</th>\n",
       "      <th>Low</th>\n",
       "    </tr>\n",
       "    <tr>\n",
       "      <th>Date</th>\n",
       "      <th></th>\n",
       "      <th></th>\n",
       "    </tr>\n",
       "  </thead>\n",
       "  <tbody>\n",
       "    <tr>\n",
       "      <th>2024-09-17 00:00:00+09:00</th>\n",
       "      <td>2400.754443</td>\n",
       "      <td>2332.766733</td>\n",
       "    </tr>\n",
       "    <tr>\n",
       "      <th>2024-09-18 00:00:00+09:00</th>\n",
       "      <td>2414.549113</td>\n",
       "      <td>2405.188486</td>\n",
       "    </tr>\n",
       "    <tr>\n",
       "      <th>2024-09-19 00:00:00+09:00</th>\n",
       "      <td>2547.075768</td>\n",
       "      <td>2522.935204</td>\n",
       "    </tr>\n",
       "    <tr>\n",
       "      <th>2024-09-20 00:00:00+09:00</th>\n",
       "      <td>2627.872795</td>\n",
       "      <td>2573.679693</td>\n",
       "    </tr>\n",
       "    <tr>\n",
       "      <th>2024-09-24 00:00:00+09:00</th>\n",
       "      <td>2622.453594</td>\n",
       "      <td>2571.709141</td>\n",
       "    </tr>\n",
       "  </tbody>\n",
       "</table>\n",
       "</div>"
      ],
      "text/plain": [
       "                                  Open          Low\n",
       "Date                                               \n",
       "2024-09-17 00:00:00+09:00  2400.754443  2332.766733\n",
       "2024-09-18 00:00:00+09:00  2414.549113  2405.188486\n",
       "2024-09-19 00:00:00+09:00  2547.075768  2522.935204\n",
       "2024-09-20 00:00:00+09:00  2627.872795  2573.679693\n",
       "2024-09-24 00:00:00+09:00  2622.453594  2571.709141"
      ]
     },
     "execution_count": 34,
     "metadata": {},
     "output_type": "execute_result"
    }
   ],
   "source": [
    "\"\"\"\n",
    "Open  : 始値 \n",
    "High  : 高値\n",
    "Low   : 低値\n",
    "Close : 終値\n",
    "Volume: 取引量\n",
    "\"\"\"\n",
    "df[[\"Open\", \"Low\"]].head()"
   ]
  },
  {
   "cell_type": "code",
   "execution_count": 35,
   "id": "442b174d",
   "metadata": {},
   "outputs": [
    {
     "data": {
      "text/html": [
       "<div>\n",
       "<style scoped>\n",
       "    .dataframe tbody tr th:only-of-type {\n",
       "        vertical-align: middle;\n",
       "    }\n",
       "\n",
       "    .dataframe tbody tr th {\n",
       "        vertical-align: top;\n",
       "    }\n",
       "\n",
       "    .dataframe thead th {\n",
       "        text-align: right;\n",
       "    }\n",
       "</style>\n",
       "<table border=\"1\" class=\"dataframe\">\n",
       "  <thead>\n",
       "    <tr style=\"text-align: right;\">\n",
       "      <th></th>\n",
       "      <th>Open</th>\n",
       "      <th>Low</th>\n",
       "    </tr>\n",
       "    <tr>\n",
       "      <th>Date</th>\n",
       "      <th></th>\n",
       "      <th></th>\n",
       "    </tr>\n",
       "  </thead>\n",
       "  <tbody>\n",
       "    <tr>\n",
       "      <th>2025-03-11 00:00:00+09:00</th>\n",
       "      <td>2770.5</td>\n",
       "      <td>2713.0</td>\n",
       "    </tr>\n",
       "    <tr>\n",
       "      <th>2025-03-12 00:00:00+09:00</th>\n",
       "      <td>2750.0</td>\n",
       "      <td>2730.0</td>\n",
       "    </tr>\n",
       "    <tr>\n",
       "      <th>2025-03-13 00:00:00+09:00</th>\n",
       "      <td>2760.0</td>\n",
       "      <td>2719.0</td>\n",
       "    </tr>\n",
       "    <tr>\n",
       "      <th>2025-03-14 00:00:00+09:00</th>\n",
       "      <td>2722.5</td>\n",
       "      <td>2722.5</td>\n",
       "    </tr>\n",
       "    <tr>\n",
       "      <th>2025-03-17 00:00:00+09:00</th>\n",
       "      <td>2750.0</td>\n",
       "      <td>2750.0</td>\n",
       "    </tr>\n",
       "  </tbody>\n",
       "</table>\n",
       "</div>"
      ],
      "text/plain": [
       "                             Open     Low\n",
       "Date                                     \n",
       "2025-03-11 00:00:00+09:00  2770.5  2713.0\n",
       "2025-03-12 00:00:00+09:00  2750.0  2730.0\n",
       "2025-03-13 00:00:00+09:00  2760.0  2719.0\n",
       "2025-03-14 00:00:00+09:00  2722.5  2722.5\n",
       "2025-03-17 00:00:00+09:00  2750.0  2750.0"
      ]
     },
     "execution_count": 35,
     "metadata": {},
     "output_type": "execute_result"
    }
   ],
   "source": [
    "df[[\"Open\", \"Low\"]].tail()"
   ]
  },
  {
   "cell_type": "code",
   "execution_count": 36,
   "id": "037629f5",
   "metadata": {},
   "outputs": [],
   "source": [
    "# ファイナンスデータ可視化用ライブラリ\n",
    "import mplfinance as mpf"
   ]
  },
  {
   "cell_type": "code",
   "execution_count": 37,
   "id": "56f13dba",
   "metadata": {},
   "outputs": [
    {
     "data": {
      "image/png": "[encoded data removed]",
      "text/plain": [
       "<Figure size 800x575 with 4 Axes>"
      ]
     },
     "metadata": {},
     "output_type": "display_data"
    }
   ],
   "source": [
    "\"\"\"\n",
    "緑（陽線）：終値が始値より高い（上昇）\n",
    "赤（陰線）：終値が始値より低い（下落）\n",
    "\"\"\"\n",
    "# インデックスを日付に設定（mplfinance 用）\n",
    "df.index = df.index.tz_localize(None)\n",
    "\n",
    "# ローソク足チャートを描画\n",
    "mpf.plot(df, type=\"candle\", style=\"yahoo\", volume=True, ylabel=\"price (JPY)\")\n"
   ]
  },
  {
   "cell_type": "code",
   "execution_count": 38,
   "id": "a5bc0335",
   "metadata": {},
   "outputs": [
    {
     "data": {
      "image/png": "[encoded data removed]",
      "text/plain": [
       "<Figure size 800x575 with 4 Axes>"
      ]
     },
     "metadata": {},
     "output_type": "display_data"
    }
   ],
   "source": [
    "ticker = yf.Ticker(\"7203.T\")  # 例: トヨタ自動車\n",
    "df = ticker.history(period=\"6mo\")\n",
    "\n",
    "# ローソク足チャートのプロット（移動平均線の色を指定）\n",
    "mpf.plot(\n",
    "    df,\n",
    "    type=\"candle\",\n",
    "    style=\"charles\",\n",
    "    volume=True,\n",
    "    mav=(5, 25),  # 移動平均線の期間\n",
    "    mavcolors=(\"blue\", \"red\"),  # 5日線 → 青, 25日線 → 赤\n",
    "    ylabel=\"Price (JPY)\"\n",
    ")"
   ]
  },
  {
   "cell_type": "markdown",
   "id": "bd44a27d",
   "metadata": {},
   "source": [
    "### ガウス過程回帰を使って予測"
   ]
  },
  {
   "cell_type": "code",
   "execution_count": 39,
   "id": "932b3491",
   "metadata": {},
   "outputs": [],
   "source": [
    "import numpy as np\n",
    "import pandas as pd\n",
    "import yfinance as yf\n",
    "import matplotlib.pyplot as plt\n",
    "from sklearn.gaussian_process import GaussianProcessRegressor\n",
    "from sklearn.gaussian_process.kernels import RBF, ConstantKernel as C, WhiteKernel"
   ]
  },
  {
   "cell_type": "code",
   "execution_count": 40,
   "id": "1c0f3af3",
   "metadata": {},
   "outputs": [
    {
     "data": {
      "image/png": "[encoded data removed]",
      "text/plain": [
       "<Figure size 1000x500 with 1 Axes>"
      ]
     },
     "metadata": {},
     "output_type": "display_data"
    },
    {
     "name": "stdout",
     "output_type": "stream",
     "text": [
      "Optimized Kernel: 1.09**2 * RBF(length_scale=8.59) + WhiteKernel(noise_level=0.0832)\n"
     ]
    }
   ],
   "source": [
    "# 1. 株価データ取得\n",
    "ticker = yf.Ticker(\"7203.T\")  # 例: トヨタ自動車\n",
    "df = ticker.history(period=\"6mo\")\n",
    "\n",
    "# 2. データ前処理\n",
    "df = df.reset_index()\n",
    "df[\"Days\"] = (df[\"Date\"] - df[\"Date\"].min()).dt.days  # 経過日数\n",
    "X = df[\"Days\"].values.reshape(-1, 1)  # 説明変数（日数）\n",
    "y = df[\"Close\"].values  # 目的変数（終値）\n",
    "\n",
    "# 3. カーネルの調整（初期値を変更）\n",
    "kernel = (\n",
    "    C(1.0, (1e-2, 1e2)) * RBF(length_scale=20, length_scale_bounds=(1e-1, 1e3)) \n",
    "    + WhiteKernel(noise_level=1, noise_level_bounds=(1e-5, 1e1))\n",
    ")\n",
    "\n",
    "gp = GaussianProcessRegressor(kernel=kernel, n_restarts_optimizer=10, normalize_y=True)\n",
    "gp.fit(X, y)\n",
    "\n",
    "# 4. 未来の予測（1か月先）\n",
    "future_days = np.arange(df[\"Days\"].max() + 1, df[\"Days\"].max() + 31).reshape(-1, 1)\n",
    "y_pred, sigma = gp.predict(future_days, return_std=True)\n",
    "\n",
    "# 5. 結果の可視化\n",
    "plt.figure(figsize=(10, 5))\n",
    "plt.scatter(df[\"Date\"], y, label=\"Observed\", color=\"blue\")\n",
    "plt.plot(df[\"Date\"], gp.predict(X), label=\"Fitted\", color=\"green\")\n",
    "future_dates = pd.date_range(df[\"Date\"].max() + pd.Timedelta(days=1), periods=30)\n",
    "plt.plot(future_dates, y_pred, label=\"Predicted\", color=\"red\")\n",
    "plt.fill_between(future_dates, y_pred - 1.96 * sigma, y_pred + 1.96 * sigma, alpha=0.2, color=\"red\")\n",
    "plt.legend()\n",
    "plt.xlabel(\"Date\")\n",
    "plt.ylabel(\"Stock Price\")\n",
    "plt.title(\"Stock Price Prediction using Gaussian Process\")\n",
    "plt.show()\n",
    "\n",
    "# カーネルの最適化後のパラメータ確認\n",
    "print(\"Optimized Kernel:\", gp.kernel_)"
   ]
  },
  {
   "cell_type": "markdown",
   "id": "91a49004",
   "metadata": {},
   "source": [
    "## GPRの簡単な解説\n",
    "ガウス過程は、関数 $ f(x) $に対して以下のように定義される：\n",
    "\n",
    "$$\n",
    "f(x) \\sim GP(m(x), k(x, x'))\n",
    "$$\n",
    "\n",
    "- $m(x) $ : 平均関数（通常 0 と仮定）\n",
    "- $ k(x, x') $ : 共分散関数（カーネル関数）\n",
    "\n",
    "**観測データ** $ \\mathbf{X} = \\{x_1, x_2, ..., x_n\\} $ に対するガウス過程回帰の予測は、  \n",
    "新しい入力 $ x_* $ に対して以下の分布に従う：\n",
    "\n",
    "$$\n",
    "p(f_* | x_*, X, y) = \\mathcal{N}(\\mu_*, \\sigma_*^2)\n",
    "$$\n",
    "\n",
    "- 平均値（予測値）:  \n",
    "  $$\n",
    "  \\mu_* = k_*^T (K + \\sigma_n^2 I)^{-1} y\n",
    "  $$\n",
    "- 分散（不確実性）:\n",
    "  $$\n",
    "  \\sigma_*^2 = k(x_*, x_*) - k_*^T (K + \\sigma_n^2 I)^{-1} k_*\n",
    "  $$\n",
    "\n",
    "ここで、  \n",
    "- $ K $はカーネル関数を用いた共分散行列\n",
    "- $ k_*$ は新しいデータ点と訓練データの共分散\n",
    "- $ \\sigma_n^2 $ は観測ノイズの分散\n",
    "\n",
    "**カーネル関数の例**\n",
    "\n",
    "カーネル関数（共分散関数）を適切に選ぶことで、データの特徴を捉えられる。\n",
    "\n",
    "**RBFカーネル（放射基底関数カーネル）**\n",
    "\n",
    "$$\n",
    "k(x, x') = \\sigma_f^2 \\exp\\left(-\\frac{(x - x')^2}{2l^2}\\right)\n",
    "$$\n",
    "- $ l $ (length scale) : データの変化の速さ\n",
    "- $ \\sigma_f^2 $ : 出力のスケール\n",
    "\n",
    "他にも、**線形カーネル**, **Maternカーネル**, **Periodicカーネル** などがある。"
   ]
  },
  {
   "cell_type": "code",
   "execution_count": null,
   "id": "146a4185",
   "metadata": {},
   "outputs": [],
   "source": []
  }
 ],
 "metadata": {
  "kernelspec": {
   "display_name": "Python 3 (ipykernel)",
   "language": "python",
   "name": "python3"
  },
  "language_info": {
   "codemirror_mode": {
    "name": "ipython",
    "version": 3
   },
   "file_extension": ".py",
   "mimetype": "text/x-python",
   "name": "python",
   "nbconvert_exporter": "python",
   "pygments_lexer": "ipython3",
   "version": "3.9.12"
  }
 },
 "nbformat": 4,
 "nbformat_minor": 5
}
